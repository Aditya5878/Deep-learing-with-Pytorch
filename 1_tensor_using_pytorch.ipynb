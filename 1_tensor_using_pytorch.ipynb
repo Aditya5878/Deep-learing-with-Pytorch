{
  "nbformat": 4,
  "nbformat_minor": 0,
  "metadata": {
    "colab": {
      "provenance": [],
      "gpuType": "T4"
    },
    "kernelspec": {
      "name": "python3",
      "display_name": "Python 3"
    },
    "language_info": {
      "name": "python"
    },
    "accelerator": "GPU"
  },
  "cells": [
    {
      "cell_type": "code",
      "execution_count": 3,
      "metadata": {
        "id": "0AbteIx_R1KW"
      },
      "outputs": [],
      "source": [
        "import torch"
      ]
    },
    {
      "cell_type": "code",
      "source": [
        "print(torch.__version__)"
      ],
      "metadata": {
        "colab": {
          "base_uri": "https://localhost:8080/"
        },
        "id": "OjOvltVXSLJL",
        "outputId": "7f137c30-e1d9-4df0-be4f-789006e7fcb8"
      },
      "execution_count": 4,
      "outputs": [
        {
          "output_type": "stream",
          "name": "stdout",
          "text": [
            "2.6.0+cu124\n"
          ]
        }
      ]
    },
    {
      "cell_type": "markdown",
      "source": [
        "### Check is connected to GPU or not :"
      ],
      "metadata": {
        "id": "OPZlmpIBS0f2"
      }
    },
    {
      "cell_type": "code",
      "source": [
        "if torch.cuda.is_available():\n",
        "    print(\"Connected to GPU\")\n",
        "    print(f\"Using GPU : {torch.cuda.get_device_name(0)}\")\n",
        "else:\n",
        "    print(\"Not connected to GPU\")"
      ],
      "metadata": {
        "colab": {
          "base_uri": "https://localhost:8080/"
        },
        "id": "s_TrTda4SQLw",
        "outputId": "0b296936-df5d-4e45-a5b8-a1e5ae65bb43"
      },
      "execution_count": 5,
      "outputs": [
        {
          "output_type": "stream",
          "name": "stdout",
          "text": [
            "Connected to GPU\n",
            "Using GPU : Tesla T4\n"
          ]
        }
      ]
    },
    {
      "cell_type": "markdown",
      "source": [
        "### Create Tensor in Pytorch"
      ],
      "metadata": {
        "id": "Gg1_7Q8PTT5v"
      }
    },
    {
      "cell_type": "code",
      "source": [
        "a = torch.empty(2,4)   # it generates a random valued tensor of given size\n",
        "a"
      ],
      "metadata": {
        "colab": {
          "base_uri": "https://localhost:8080/"
        },
        "id": "QznZ6y53TKia",
        "outputId": "9ba6e35a-aa3f-4965-c806-8396535ffaf9"
      },
      "execution_count": 30,
      "outputs": [
        {
          "output_type": "execute_result",
          "data": {
            "text/plain": [
              "tensor([[6.8611e-34, 6.0993e-38, 6.2815e-38, 0.0000e+00],\n",
              "        [0.0000e+00, 5.9135e-43, 5.9835e-43, 0.0000e+00]])"
            ]
          },
          "metadata": {},
          "execution_count": 30
        }
      ]
    },
    {
      "cell_type": "code",
      "source": [
        "type(a)"
      ],
      "metadata": {
        "colab": {
          "base_uri": "https://localhost:8080/"
        },
        "id": "60lRfDY1Tcw7",
        "outputId": "8968a99d-4c4f-4d2a-87fe-6d1bd385039b"
      },
      "execution_count": 9,
      "outputs": [
        {
          "output_type": "execute_result",
          "data": {
            "text/plain": [
              "torch.Tensor"
            ]
          },
          "metadata": {},
          "execution_count": 9
        }
      ]
    },
    {
      "cell_type": "code",
      "source": [
        "torch.zeros(2,4)"
      ],
      "metadata": {
        "colab": {
          "base_uri": "https://localhost:8080/"
        },
        "id": "znVzQD5AT10K",
        "outputId": "5ac42bef-686b-4e55-9f12-f6bb88a3ffe7"
      },
      "execution_count": 10,
      "outputs": [
        {
          "output_type": "execute_result",
          "data": {
            "text/plain": [
              "tensor([[0., 0., 0., 0.],\n",
              "        [0., 0., 0., 0.]])"
            ]
          },
          "metadata": {},
          "execution_count": 10
        }
      ]
    },
    {
      "cell_type": "code",
      "source": [
        "torch.ones(2,4)"
      ],
      "metadata": {
        "colab": {
          "base_uri": "https://localhost:8080/"
        },
        "id": "i0hz94PtT8Ah",
        "outputId": "e5b1cf92-26ce-4cc2-db97-2bc124dadcef"
      },
      "execution_count": 11,
      "outputs": [
        {
          "output_type": "execute_result",
          "data": {
            "text/plain": [
              "tensor([[1., 1., 1., 1.],\n",
              "        [1., 1., 1., 1.]])"
            ]
          },
          "metadata": {},
          "execution_count": 11
        }
      ]
    },
    {
      "cell_type": "code",
      "source": [
        "torch.rand(2,4) # gives a random valued (0 to 1) tensor of the given size  , it is use in the cases like weight initialization and all"
      ],
      "metadata": {
        "colab": {
          "base_uri": "https://localhost:8080/"
        },
        "id": "L5KiRh-gUAvU",
        "outputId": "5e6314db-c83d-488e-cc67-3c6ba917a6bf"
      },
      "execution_count": 12,
      "outputs": [
        {
          "output_type": "execute_result",
          "data": {
            "text/plain": [
              "tensor([[0.0636, 0.7071, 0.8613, 0.9795],\n",
              "        [0.4406, 0.0162, 0.7157, 0.4664]])"
            ]
          },
          "metadata": {},
          "execution_count": 12
        }
      ]
    },
    {
      "cell_type": "code",
      "source": [
        "torch.rand(2,4)  # every time it will give different values , to get same values we have to use seed"
      ],
      "metadata": {
        "colab": {
          "base_uri": "https://localhost:8080/"
        },
        "id": "DJgyuAOkUQqo",
        "outputId": "7f997162-9689-4717-deb8-f8aad571d80b"
      },
      "execution_count": 14,
      "outputs": [
        {
          "output_type": "execute_result",
          "data": {
            "text/plain": [
              "tensor([[0.8245, 0.0124, 0.5725, 0.8354],\n",
              "        [0.8783, 0.4712, 0.4434, 0.4071]])"
            ]
          },
          "metadata": {},
          "execution_count": 14
        }
      ]
    },
    {
      "cell_type": "markdown",
      "source": [
        "manual seed"
      ],
      "metadata": {
        "id": "jSPXFR8mUroa"
      }
    },
    {
      "cell_type": "code",
      "source": [
        "torch.manual_seed(100)  # now it will give same values every time with this seed\n",
        "torch.rand(2,4)"
      ],
      "metadata": {
        "colab": {
          "base_uri": "https://localhost:8080/"
        },
        "id": "sRjgHNv-UfHk",
        "outputId": "3c170f5a-5e40-4d73-fbda-e078cddaab9c"
      },
      "execution_count": 15,
      "outputs": [
        {
          "output_type": "execute_result",
          "data": {
            "text/plain": [
              "tensor([[0.1117, 0.8158, 0.2626, 0.4839],\n",
              "        [0.6765, 0.7539, 0.2627, 0.0428]])"
            ]
          },
          "metadata": {},
          "execution_count": 15
        }
      ]
    },
    {
      "cell_type": "code",
      "source": [
        "torch.manual_seed(100)\n",
        "torch.rand(2,4)"
      ],
      "metadata": {
        "colab": {
          "base_uri": "https://localhost:8080/"
        },
        "id": "Z42SV-IoU3dp",
        "outputId": "23737add-f2e6-40bf-f0ae-f70d17dae9ea"
      },
      "execution_count": 16,
      "outputs": [
        {
          "output_type": "execute_result",
          "data": {
            "text/plain": [
              "tensor([[0.1117, 0.8158, 0.2626, 0.4839],\n",
              "        [0.6765, 0.7539, 0.2627, 0.0428]])"
            ]
          },
          "metadata": {},
          "execution_count": 16
        }
      ]
    },
    {
      "cell_type": "markdown",
      "source": [
        "Create Manual Tensor(Custom Tensor)"
      ],
      "metadata": {
        "id": "_699nAjyVHrc"
      }
    },
    {
      "cell_type": "code",
      "source": [
        "torch.tensor([[1,2,3],[4,5,6]])"
      ],
      "metadata": {
        "colab": {
          "base_uri": "https://localhost:8080/"
        },
        "id": "-AQtWHDgU5dh",
        "outputId": "11d86400-760e-47c7-baf0-07cac40ef0f7"
      },
      "execution_count": 22,
      "outputs": [
        {
          "output_type": "execute_result",
          "data": {
            "text/plain": [
              "tensor([[1, 2, 3],\n",
              "        [4, 5, 6]])"
            ]
          },
          "metadata": {},
          "execution_count": 22
        }
      ]
    },
    {
      "cell_type": "markdown",
      "source": [
        "In a range"
      ],
      "metadata": {
        "id": "LqIaE4g5gysa"
      }
    },
    {
      "cell_type": "code",
      "source": [
        "print(\"using arange -> : \" , torch.arange(0,10,2))"
      ],
      "metadata": {
        "colab": {
          "base_uri": "https://localhost:8080/"
        },
        "id": "fE8P5EH0VURG",
        "outputId": "7e9da13b-3294-4ec2-f8c6-bd3e4a2ceb9a"
      },
      "execution_count": 23,
      "outputs": [
        {
          "output_type": "stream",
          "name": "stdout",
          "text": [
            "using arange -> :  tensor([0, 2, 4, 6, 8])\n"
          ]
        }
      ]
    },
    {
      "cell_type": "code",
      "source": [
        "# linspace : Linerly spaced\n",
        "print(\"using linspace -> : \" , torch.linspace(0,10,10))"
      ],
      "metadata": {
        "colab": {
          "base_uri": "https://localhost:8080/"
        },
        "id": "OQzlxGauhR4Q",
        "outputId": "e8492bbd-dcf2-41c8-817f-959876dec5a2"
      },
      "execution_count": 24,
      "outputs": [
        {
          "output_type": "stream",
          "name": "stdout",
          "text": [
            "using linspace -> :  tensor([ 0.0000,  1.1111,  2.2222,  3.3333,  4.4444,  5.5556,  6.6667,  7.7778,\n",
            "         8.8889, 10.0000])\n"
          ]
        }
      ]
    },
    {
      "cell_type": "code",
      "source": [
        "# indenty matrix\n",
        "torch.eye(5)"
      ],
      "metadata": {
        "colab": {
          "base_uri": "https://localhost:8080/"
        },
        "id": "K8rKa2pEhhVk",
        "outputId": "12e8c2ca-279d-4e3a-cc45-304618fef219"
      },
      "execution_count": 25,
      "outputs": [
        {
          "output_type": "execute_result",
          "data": {
            "text/plain": [
              "tensor([[1., 0., 0., 0., 0.],\n",
              "        [0., 1., 0., 0., 0.],\n",
              "        [0., 0., 1., 0., 0.],\n",
              "        [0., 0., 0., 1., 0.],\n",
              "        [0., 0., 0., 0., 1.]])"
            ]
          },
          "metadata": {},
          "execution_count": 25
        }
      ]
    },
    {
      "cell_type": "code",
      "source": [
        "# all element of a given value\n",
        "torch.full((3,3),6)"
      ],
      "metadata": {
        "colab": {
          "base_uri": "https://localhost:8080/"
        },
        "id": "-WC7v8ufhyUh",
        "outputId": "f787f57a-3941-4d3d-b8e3-0381c109ab70"
      },
      "execution_count": 26,
      "outputs": [
        {
          "output_type": "execute_result",
          "data": {
            "text/plain": [
              "tensor([[6, 6, 6],\n",
              "        [6, 6, 6],\n",
              "        [6, 6, 6]])"
            ]
          },
          "metadata": {},
          "execution_count": 26
        }
      ]
    },
    {
      "cell_type": "markdown",
      "source": [
        "# Shapes in Tensor"
      ],
      "metadata": {
        "id": "bHoEExg6iGqy"
      }
    },
    {
      "cell_type": "code",
      "source": [
        "x = torch.tensor([[2,1,3],[4,5,6]])\n",
        "x"
      ],
      "metadata": {
        "colab": {
          "base_uri": "https://localhost:8080/"
        },
        "id": "BBFKCqw5iJPi",
        "outputId": "6f1a8587-2a0b-4938-e638-14f83198440d"
      },
      "execution_count": 28,
      "outputs": [
        {
          "output_type": "execute_result",
          "data": {
            "text/plain": [
              "tensor([[2, 1, 3],\n",
              "        [4, 5, 6]])"
            ]
          },
          "metadata": {},
          "execution_count": 28
        }
      ]
    },
    {
      "cell_type": "code",
      "source": [
        "x.shape"
      ],
      "metadata": {
        "colab": {
          "base_uri": "https://localhost:8080/"
        },
        "id": "iGRE8e6Kib1O",
        "outputId": "2edbd533-a685-490a-d9a4-6e93dff008e8"
      },
      "execution_count": 29,
      "outputs": [
        {
          "output_type": "execute_result",
          "data": {
            "text/plain": [
              "torch.Size([2, 3])"
            ]
          },
          "metadata": {},
          "execution_count": 29
        }
      ]
    },
    {
      "cell_type": "code",
      "source": [
        "# create a tensor y which has same shape of x\n",
        "torch.empty_like(x)"
      ],
      "metadata": {
        "colab": {
          "base_uri": "https://localhost:8080/"
        },
        "id": "T6HhzTfoie5k",
        "outputId": "2b5ceb5a-0784-42a7-b8e3-7b925b77663b"
      },
      "execution_count": 31,
      "outputs": [
        {
          "output_type": "execute_result",
          "data": {
            "text/plain": [
              "tensor([[90194313439,           1,   261892120],\n",
              "        [  261892064,          24,     9924480]])"
            ]
          },
          "metadata": {},
          "execution_count": 31
        }
      ]
    },
    {
      "cell_type": "code",
      "source": [
        "# another way to get the same shape\n",
        "torch.zeros_like(x)"
      ],
      "metadata": {
        "colab": {
          "base_uri": "https://localhost:8080/"
        },
        "id": "54oqy475i_Qc",
        "outputId": "8bd54f74-55dd-4951-c4c0-1760b8d5fdee"
      },
      "execution_count": 32,
      "outputs": [
        {
          "output_type": "execute_result",
          "data": {
            "text/plain": [
              "tensor([[0, 0, 0],\n",
              "        [0, 0, 0]])"
            ]
          },
          "metadata": {},
          "execution_count": 32
        }
      ]
    },
    {
      "cell_type": "code",
      "source": [
        "torch.rand_like(x, dtype = torch.float32)"
      ],
      "metadata": {
        "colab": {
          "base_uri": "https://localhost:8080/"
        },
        "id": "kqOQrXUIkg5O",
        "outputId": "b1bc6220-ddf7-4acf-88e1-f096ea50df15"
      },
      "execution_count": 40,
      "outputs": [
        {
          "output_type": "execute_result",
          "data": {
            "text/plain": [
              "tensor([[0.2080, 0.1180, 0.1217],\n",
              "        [0.7356, 0.7118, 0.7876]])"
            ]
          },
          "metadata": {},
          "execution_count": 40
        }
      ]
    },
    {
      "cell_type": "code",
      "source": [
        "torch.ones_like(x)"
      ],
      "metadata": {
        "colab": {
          "base_uri": "https://localhost:8080/"
        },
        "id": "iQwv8pqejLIe",
        "outputId": "0cb43143-4c04-436a-db8e-065af6a4275b"
      },
      "execution_count": 33,
      "outputs": [
        {
          "output_type": "execute_result",
          "data": {
            "text/plain": [
              "tensor([[1, 1, 1],\n",
              "        [1, 1, 1]])"
            ]
          },
          "metadata": {},
          "execution_count": 33
        }
      ]
    },
    {
      "cell_type": "markdown",
      "source": [
        "# Data Type in Tensor"
      ],
      "metadata": {
        "id": "KC6FQf6qjZ74"
      }
    },
    {
      "cell_type": "code",
      "source": [
        "x.dtype"
      ],
      "metadata": {
        "colab": {
          "base_uri": "https://localhost:8080/"
        },
        "id": "RiMpmrPfjQtk",
        "outputId": "15605b93-b07f-429c-e809-d9fc27f9e3f1"
      },
      "execution_count": 34,
      "outputs": [
        {
          "output_type": "execute_result",
          "data": {
            "text/plain": [
              "torch.int64"
            ]
          },
          "metadata": {},
          "execution_count": 34
        }
      ]
    },
    {
      "cell_type": "code",
      "source": [
        "# define the data type while creating the tensor\n",
        "torch.tensor([[1.0,2.0,3.0]] , dtype = torch.int64)"
      ],
      "metadata": {
        "colab": {
          "base_uri": "https://localhost:8080/"
        },
        "id": "X32hQbUNjgSg",
        "outputId": "d5cb254e-afee-4628-ec42-d51e6c17e3ba"
      },
      "execution_count": 37,
      "outputs": [
        {
          "output_type": "execute_result",
          "data": {
            "text/plain": [
              "tensor([[1, 2, 3]])"
            ]
          },
          "metadata": {},
          "execution_count": 37
        }
      ]
    },
    {
      "cell_type": "code",
      "source": [
        "# change the data type of an existing tensor\n",
        "x.to(torch.float64)"
      ],
      "metadata": {
        "colab": {
          "base_uri": "https://localhost:8080/"
        },
        "id": "0U-VV30zj4Mm",
        "outputId": "eac0ff89-7ec9-4b81-8d58-7a6d946bec0c"
      },
      "execution_count": 38,
      "outputs": [
        {
          "output_type": "execute_result",
          "data": {
            "text/plain": [
              "tensor([[2., 1., 3.],\n",
              "        [4., 5., 6.]], dtype=torch.float64)"
            ]
          },
          "metadata": {},
          "execution_count": 38
        }
      ]
    },
    {
      "cell_type": "markdown",
      "source": [
        "# mathematical Operation"
      ],
      "metadata": {
        "id": "1Y2u4Nydkw8U"
      }
    },
    {
      "cell_type": "code",
      "source": [
        "# 1. Scaler Operation :  addition , subtraction , multiplicatin , division, int   divion , mod , power\n",
        "x = torch.rand(2,2)\n",
        "x"
      ],
      "metadata": {
        "colab": {
          "base_uri": "https://localhost:8080/"
        },
        "id": "HKPlWaoSkPgf",
        "outputId": "0b2c93c2-d825-4fe4-d3f5-61a5497c8e47"
      },
      "execution_count": 42,
      "outputs": [
        {
          "output_type": "execute_result",
          "data": {
            "text/plain": [
              "tensor([[0.2239, 0.3023],\n",
              "        [0.1784, 0.8238]])"
            ]
          },
          "metadata": {},
          "execution_count": 42
        }
      ]
    },
    {
      "cell_type": "code",
      "source": [
        "x +2"
      ],
      "metadata": {
        "colab": {
          "base_uri": "https://localhost:8080/"
        },
        "id": "6g28M2Tzk7oV",
        "outputId": "7163ffd2-8050-41fc-f487-81bf24d66ef3"
      },
      "execution_count": 43,
      "outputs": [
        {
          "output_type": "execute_result",
          "data": {
            "text/plain": [
              "tensor([[2.2239, 2.3023],\n",
              "        [2.1784, 2.8238]])"
            ]
          },
          "metadata": {},
          "execution_count": 43
        }
      ]
    },
    {
      "cell_type": "code",
      "source": [
        "x-2"
      ],
      "metadata": {
        "colab": {
          "base_uri": "https://localhost:8080/"
        },
        "id": "2a2XRHDVlikI",
        "outputId": "7e4785c3-648e-4919-90ab-44748c2aeeb7"
      },
      "execution_count": 44,
      "outputs": [
        {
          "output_type": "execute_result",
          "data": {
            "text/plain": [
              "tensor([[-1.7761, -1.6977],\n",
              "        [-1.8216, -1.1762]])"
            ]
          },
          "metadata": {},
          "execution_count": 44
        }
      ]
    },
    {
      "cell_type": "code",
      "source": [
        "x/2"
      ],
      "metadata": {
        "colab": {
          "base_uri": "https://localhost:8080/"
        },
        "id": "uZU87VMillYN",
        "outputId": "279eed67-ae70-4f59-b087-441274a737ba"
      },
      "execution_count": 45,
      "outputs": [
        {
          "output_type": "execute_result",
          "data": {
            "text/plain": [
              "tensor([[0.1119, 0.1512],\n",
              "        [0.0892, 0.4119]])"
            ]
          },
          "metadata": {},
          "execution_count": 45
        }
      ]
    },
    {
      "cell_type": "code",
      "source": [
        "x//2"
      ],
      "metadata": {
        "colab": {
          "base_uri": "https://localhost:8080/"
        },
        "id": "-HXsWWr_lnmR",
        "outputId": "e05403ff-a827-4ff0-e5b6-77d731bd070f"
      },
      "execution_count": 46,
      "outputs": [
        {
          "output_type": "execute_result",
          "data": {
            "text/plain": [
              "tensor([[0., 0.],\n",
              "        [0., 0.]])"
            ]
          },
          "metadata": {},
          "execution_count": 46
        }
      ]
    },
    {
      "cell_type": "code",
      "source": [
        "x*2"
      ],
      "metadata": {
        "colab": {
          "base_uri": "https://localhost:8080/"
        },
        "id": "d1gQ6vkElpRQ",
        "outputId": "37336a3e-fc10-449b-91c5-89ab64024e6b"
      },
      "execution_count": 47,
      "outputs": [
        {
          "output_type": "execute_result",
          "data": {
            "text/plain": [
              "tensor([[0.4478, 0.6047],\n",
              "        [0.3568, 1.6477]])"
            ]
          },
          "metadata": {},
          "execution_count": 47
        }
      ]
    },
    {
      "cell_type": "code",
      "source": [
        "x**2"
      ],
      "metadata": {
        "colab": {
          "base_uri": "https://localhost:8080/"
        },
        "id": "IODRyHsTlsIO",
        "outputId": "3db952f8-d9ee-47d5-9d1e-9b586bb1c446"
      },
      "execution_count": 48,
      "outputs": [
        {
          "output_type": "execute_result",
          "data": {
            "text/plain": [
              "tensor([[0.0501, 0.0914],\n",
              "        [0.0318, 0.6787]])"
            ]
          },
          "metadata": {},
          "execution_count": 48
        }
      ]
    },
    {
      "cell_type": "code",
      "source": [
        "x%2"
      ],
      "metadata": {
        "colab": {
          "base_uri": "https://localhost:8080/"
        },
        "id": "1G2Ny2v_ltac",
        "outputId": "00414706-dd06-4844-83fe-17e3712f605c"
      },
      "execution_count": 49,
      "outputs": [
        {
          "output_type": "execute_result",
          "data": {
            "text/plain": [
              "tensor([[0.2239, 0.3023],\n",
              "        [0.1784, 0.8238]])"
            ]
          },
          "metadata": {},
          "execution_count": 49
        }
      ]
    },
    {
      "cell_type": "markdown",
      "source": [
        "# Element vise operation on two tensors"
      ],
      "metadata": {
        "id": "N0xGSAsCl0AN"
      }
    },
    {
      "cell_type": "code",
      "source": [
        "a = torch.rand(2,2)\n",
        "a"
      ],
      "metadata": {
        "colab": {
          "base_uri": "https://localhost:8080/"
        },
        "id": "vZ3qAGmHlvUj",
        "outputId": "7fc8be99-2be1-478c-9ae0-0c8dab08868d"
      },
      "execution_count": 54,
      "outputs": [
        {
          "output_type": "execute_result",
          "data": {
            "text/plain": [
              "tensor([[0.5277, 0.2472],\n",
              "        [0.7909, 0.4235]])"
            ]
          },
          "metadata": {},
          "execution_count": 54
        }
      ]
    },
    {
      "cell_type": "code",
      "source": [
        "b = torch.rand(2,2)\n",
        "b"
      ],
      "metadata": {
        "colab": {
          "base_uri": "https://localhost:8080/"
        },
        "id": "ORCA8mwdmC5m",
        "outputId": "6e927cfa-b636-412d-8486-20c794bc757d"
      },
      "execution_count": 55,
      "outputs": [
        {
          "output_type": "execute_result",
          "data": {
            "text/plain": [
              "tensor([[0.0169, 0.2209],\n",
              "        [0.9535, 0.7064]])"
            ]
          },
          "metadata": {},
          "execution_count": 55
        }
      ]
    },
    {
      "cell_type": "code",
      "source": [
        " a+b"
      ],
      "metadata": {
        "colab": {
          "base_uri": "https://localhost:8080/"
        },
        "id": "YkvlcrW_mIs1",
        "outputId": "b0345e85-2ce9-4641-f817-0ab0e9f88220"
      },
      "execution_count": 57,
      "outputs": [
        {
          "output_type": "execute_result",
          "data": {
            "text/plain": [
              "tensor([[0.5446, 0.4681],\n",
              "        [1.7444, 1.1299]])"
            ]
          },
          "metadata": {},
          "execution_count": 57
        }
      ]
    },
    {
      "cell_type": "code",
      "source": [
        "a-b"
      ],
      "metadata": {
        "colab": {
          "base_uri": "https://localhost:8080/"
        },
        "id": "w7ed_AKGmPx6",
        "outputId": "9973998c-3b9c-4502-e0cf-6c2fdd939a91"
      },
      "execution_count": 58,
      "outputs": [
        {
          "output_type": "execute_result",
          "data": {
            "text/plain": [
              "tensor([[ 0.5108,  0.0263],\n",
              "        [-0.1627, -0.2829]])"
            ]
          },
          "metadata": {},
          "execution_count": 58
        }
      ]
    },
    {
      "cell_type": "code",
      "source": [
        "a*b"
      ],
      "metadata": {
        "colab": {
          "base_uri": "https://localhost:8080/"
        },
        "id": "a12oBhiDmTHm",
        "outputId": "a751dd14-9b1f-4170-a93e-72c42ad74d6b"
      },
      "execution_count": 59,
      "outputs": [
        {
          "output_type": "execute_result",
          "data": {
            "text/plain": [
              "tensor([[0.0089, 0.0546],\n",
              "        [0.7541, 0.2992]])"
            ]
          },
          "metadata": {},
          "execution_count": 59
        }
      ]
    },
    {
      "cell_type": "code",
      "source": [
        "# make abs\n",
        "c = torch.tensor([[1,-2,3],[4,-5,6]])\n",
        "torch.abs(c)"
      ],
      "metadata": {
        "colab": {
          "base_uri": "https://localhost:8080/"
        },
        "id": "8MmcZb4RmUla",
        "outputId": "0b117057-3f1b-42ce-cdfd-ba3c43326667"
      },
      "execution_count": 60,
      "outputs": [
        {
          "output_type": "execute_result",
          "data": {
            "text/plain": [
              "tensor([[1, 2, 3],\n",
              "        [4, 5, 6]])"
            ]
          },
          "metadata": {},
          "execution_count": 60
        }
      ]
    },
    {
      "cell_type": "code",
      "source": [
        "# negative\n",
        "torch.neg(c)"
      ],
      "metadata": {
        "colab": {
          "base_uri": "https://localhost:8080/"
        },
        "id": "-vA8LIvmmrdC",
        "outputId": "fa881eef-eca4-4866-9227-be884427ffff"
      },
      "execution_count": 61,
      "outputs": [
        {
          "output_type": "execute_result",
          "data": {
            "text/plain": [
              "tensor([[-1,  2, -3],\n",
              "        [-4,  5, -6]])"
            ]
          },
          "metadata": {},
          "execution_count": 61
        }
      ]
    },
    {
      "cell_type": "code",
      "source": [
        "# round\n",
        "torch.round(torch.tensor([1.2,1.5,1.8]))"
      ],
      "metadata": {
        "colab": {
          "base_uri": "https://localhost:8080/"
        },
        "id": "1lRVG0YxmuuU",
        "outputId": "3a19f891-34ef-4611-a460-8bc2c475a740"
      },
      "execution_count": 62,
      "outputs": [
        {
          "output_type": "execute_result",
          "data": {
            "text/plain": [
              "tensor([1., 2., 2.])"
            ]
          },
          "metadata": {},
          "execution_count": 62
        }
      ]
    },
    {
      "cell_type": "code",
      "source": [
        "# Similarly : Floor , Ceil\n",
        "\n",
        "# Clamp : make all the number within a range\n",
        "torch.clamp(torch.tensor([[1.6, 4.5 , 1.4, 2.4]]) , min = 1 , max = 2)"
      ],
      "metadata": {
        "colab": {
          "base_uri": "https://localhost:8080/"
        },
        "id": "JUuVmXp4m2KU",
        "outputId": "cff27a27-bf91-439b-a3cb-a869f01d9319"
      },
      "execution_count": 69,
      "outputs": [
        {
          "output_type": "execute_result",
          "data": {
            "text/plain": [
              "tensor([[1.6000, 2.0000, 1.4000, 2.0000]])"
            ]
          },
          "metadata": {},
          "execution_count": 69
        }
      ]
    },
    {
      "cell_type": "code",
      "source": [
        "e = torch.randint(size = (2,3) , low = 0 , high = 10, dtype = torch.float32)\n",
        "e"
      ],
      "metadata": {
        "colab": {
          "base_uri": "https://localhost:8080/"
        },
        "id": "mR6sv94XnKm8",
        "outputId": "d5817054-ce4d-4d36-895b-10edd453cba2"
      },
      "execution_count": 76,
      "outputs": [
        {
          "output_type": "execute_result",
          "data": {
            "text/plain": [
              "tensor([[7., 9., 2.],\n",
              "        [6., 7., 7.]])"
            ]
          },
          "metadata": {},
          "execution_count": 76
        }
      ]
    },
    {
      "cell_type": "code",
      "source": [
        "# Sum of all element\n",
        "torch.sum(e)\n"
      ],
      "metadata": {
        "colab": {
          "base_uri": "https://localhost:8080/"
        },
        "id": "IC49Ikmfn-9z",
        "outputId": "04c3fb9e-a2bd-46a3-8317-e91e400b20d6"
      },
      "execution_count": 72,
      "outputs": [
        {
          "output_type": "execute_result",
          "data": {
            "text/plain": [
              "tensor(47)"
            ]
          },
          "metadata": {},
          "execution_count": 72
        }
      ]
    },
    {
      "cell_type": "code",
      "source": [
        "\n",
        "# Col sum\n",
        "# Row Sum\n",
        "torch.sum(e, dim =0)"
      ],
      "metadata": {
        "colab": {
          "base_uri": "https://localhost:8080/"
        },
        "id": "ZbiKujwfoGG9",
        "outputId": "687f5290-e487-4836-d53d-c90fbb329f98"
      },
      "execution_count": 73,
      "outputs": [
        {
          "output_type": "execute_result",
          "data": {
            "text/plain": [
              "tensor([18, 15, 14])"
            ]
          },
          "metadata": {},
          "execution_count": 73
        }
      ]
    },
    {
      "cell_type": "code",
      "source": [
        "# Similary Mean , Median ,  min , max , product"
      ],
      "metadata": {
        "id": "_BoqX2z-ogCf"
      },
      "execution_count": 74,
      "outputs": []
    },
    {
      "cell_type": "code",
      "source": [
        "# Standard Deviation\n",
        "torch.std(e)"
      ],
      "metadata": {
        "colab": {
          "base_uri": "https://localhost:8080/"
        },
        "id": "NkZEodmLo3cO",
        "outputId": "528ec25d-4ed6-4a1f-f7cb-d3ec5bd556ff"
      },
      "execution_count": 77,
      "outputs": [
        {
          "output_type": "execute_result",
          "data": {
            "text/plain": [
              "tensor(2.3381)"
            ]
          },
          "metadata": {},
          "execution_count": 77
        }
      ]
    },
    {
      "cell_type": "code",
      "source": [
        "torch.var(e)"
      ],
      "metadata": {
        "colab": {
          "base_uri": "https://localhost:8080/"
        },
        "id": "rXiT8Uj3o_Lf",
        "outputId": "e91fd8b0-9c00-49e4-8006-639010a3f0ca"
      },
      "execution_count": 78,
      "outputs": [
        {
          "output_type": "execute_result",
          "data": {
            "text/plain": [
              "tensor(5.4667)"
            ]
          },
          "metadata": {},
          "execution_count": 78
        }
      ]
    },
    {
      "cell_type": "code",
      "source": [
        "# get the postion of max value\n",
        "torch.argmax(e)  # start with 0"
      ],
      "metadata": {
        "colab": {
          "base_uri": "https://localhost:8080/"
        },
        "id": "J30jmlalpNBF",
        "outputId": "831ec48b-2128-45a4-fb51-8a15453c4453"
      },
      "execution_count": 79,
      "outputs": [
        {
          "output_type": "execute_result",
          "data": {
            "text/plain": [
              "tensor(1)"
            ]
          },
          "metadata": {},
          "execution_count": 79
        }
      ]
    },
    {
      "cell_type": "code",
      "source": [
        "# matrix multiplication\n",
        "f = torch.randint(size = (2,3) , low = 0 , high = 10)\n",
        "g = torch.randint(size = (3,2) , low = 0 , high = 10)"
      ],
      "metadata": {
        "id": "3jJk_enUpavM"
      },
      "execution_count": 81,
      "outputs": []
    },
    {
      "cell_type": "code",
      "source": [
        "torch.matmul(f,g)"
      ],
      "metadata": {
        "colab": {
          "base_uri": "https://localhost:8080/"
        },
        "id": "2Ds6AGlHp5Sr",
        "outputId": "7b23fa93-f692-4a8d-9b0c-822925801c09"
      },
      "execution_count": 83,
      "outputs": [
        {
          "output_type": "execute_result",
          "data": {
            "text/plain": [
              "tensor([[12, 24],\n",
              "        [36, 88]])"
            ]
          },
          "metadata": {},
          "execution_count": 83
        }
      ]
    },
    {
      "cell_type": "code",
      "source": [
        "vec1 = torch.tensor([2,3])\n",
        "vec2 = torch.tensor([5,6])\n",
        "\n",
        "torch.dot(vec1,vec2)"
      ],
      "metadata": {
        "colab": {
          "base_uri": "https://localhost:8080/"
        },
        "id": "4nNkbeQ4r2s1",
        "outputId": "98173df7-e74f-49f1-b1c5-ee9969c99023"
      },
      "execution_count": 85,
      "outputs": [
        {
          "output_type": "execute_result",
          "data": {
            "text/plain": [
              "tensor(28)"
            ]
          },
          "metadata": {},
          "execution_count": 85
        }
      ]
    },
    {
      "cell_type": "code",
      "source": [
        "# transpose\n",
        "torch.transpose(e,0,1)"
      ],
      "metadata": {
        "colab": {
          "base_uri": "https://localhost:8080/"
        },
        "id": "XoRvEGndsYKE",
        "outputId": "23b9d9b4-ea48-4a6f-82ef-7f909a2d8504"
      },
      "execution_count": 86,
      "outputs": [
        {
          "output_type": "execute_result",
          "data": {
            "text/plain": [
              "tensor([[7., 6.],\n",
              "        [9., 7.],\n",
              "        [2., 7.]])"
            ]
          },
          "metadata": {},
          "execution_count": 86
        }
      ]
    },
    {
      "cell_type": "code",
      "source": [
        "torch.det(torch.rand(3,3))"
      ],
      "metadata": {
        "colab": {
          "base_uri": "https://localhost:8080/"
        },
        "id": "eXOQlj0csx8U",
        "outputId": "29e1a3d9-446f-4420-b93e-d1ed6275d2f2"
      },
      "execution_count": 90,
      "outputs": [
        {
          "output_type": "execute_result",
          "data": {
            "text/plain": [
              "tensor(0.0560)"
            ]
          },
          "metadata": {},
          "execution_count": 90
        }
      ]
    },
    {
      "cell_type": "code",
      "source": [
        "torch.inverse(torch.rand(3,3))"
      ],
      "metadata": {
        "colab": {
          "base_uri": "https://localhost:8080/"
        },
        "id": "g5l8t4CHs5SD",
        "outputId": "397a00c8-99f2-403c-b2c4-8d765abea7f3"
      },
      "execution_count": 91,
      "outputs": [
        {
          "output_type": "execute_result",
          "data": {
            "text/plain": [
              "tensor([[ 1.1985, -0.1945, -0.0576],\n",
              "        [-0.0703, -2.3994,  3.6842],\n",
              "        [-0.3784,  1.6468, -0.7403]])"
            ]
          },
          "metadata": {},
          "execution_count": 91
        }
      ]
    },
    {
      "cell_type": "markdown",
      "source": [
        "# Copy in a Tensor\n"
      ],
      "metadata": {
        "id": "-O2dNfaYwGzz"
      }
    },
    {
      "cell_type": "code",
      "source": [
        "# use clone to permanently copying\n",
        "a = torch.rand(2,2)\n",
        "a"
      ],
      "metadata": {
        "colab": {
          "base_uri": "https://localhost:8080/"
        },
        "id": "P867UeZ5tPpt",
        "outputId": "b68560df-9de0-4b81-b9b4-e4531c0fd135"
      },
      "execution_count": 94,
      "outputs": [
        {
          "output_type": "execute_result",
          "data": {
            "text/plain": [
              "tensor([[0.9157, 0.3079],\n",
              "        [0.6269, 0.8277]])"
            ]
          },
          "metadata": {},
          "execution_count": 94
        }
      ]
    },
    {
      "cell_type": "code",
      "source": [
        "b = a\n",
        "b"
      ],
      "metadata": {
        "colab": {
          "base_uri": "https://localhost:8080/"
        },
        "id": "fVWXviNfxJ5K",
        "outputId": "e5981a30-f108-4b25-9186-11a9a7cc344a"
      },
      "execution_count": 95,
      "outputs": [
        {
          "output_type": "execute_result",
          "data": {
            "text/plain": [
              "tensor([[0.9157, 0.3079],\n",
              "        [0.6269, 0.8277]])"
            ]
          },
          "metadata": {},
          "execution_count": 95
        }
      ]
    },
    {
      "cell_type": "code",
      "source": [
        "a[0][0] = 0"
      ],
      "metadata": {
        "id": "a2ZXbkVJxOn8"
      },
      "execution_count": 96,
      "outputs": []
    },
    {
      "cell_type": "code",
      "source": [
        "b   # here we can see b also changes if we change the a"
      ],
      "metadata": {
        "colab": {
          "base_uri": "https://localhost:8080/"
        },
        "id": "zsJczJEsxWC3",
        "outputId": "8cf03729-4b9e-4eb8-c998-670f7458487b"
      },
      "execution_count": 98,
      "outputs": [
        {
          "output_type": "execute_result",
          "data": {
            "text/plain": [
              "tensor([[0.0000, 0.3079],\n",
              "        [0.6269, 0.8277]])"
            ]
          },
          "metadata": {},
          "execution_count": 98
        }
      ]
    },
    {
      "cell_type": "code",
      "source": [
        "b = a.clone()\n",
        "b"
      ],
      "metadata": {
        "colab": {
          "base_uri": "https://localhost:8080/"
        },
        "id": "Qq3LOcUexXA2",
        "outputId": "462a363f-9419-48fc-a77b-f6ff63edcdb7"
      },
      "execution_count": 100,
      "outputs": [
        {
          "output_type": "execute_result",
          "data": {
            "text/plain": [
              "tensor([[0.0000, 0.3079],\n",
              "        [0.6269, 0.8277]])"
            ]
          },
          "metadata": {},
          "execution_count": 100
        }
      ]
    },
    {
      "cell_type": "code",
      "source": [
        " a[0][1] = 1"
      ],
      "metadata": {
        "id": "q18bC-CZxg7q"
      },
      "execution_count": 101,
      "outputs": []
    },
    {
      "cell_type": "code",
      "source": [
        "a"
      ],
      "metadata": {
        "colab": {
          "base_uri": "https://localhost:8080/"
        },
        "id": "2Dkj47_gxoIQ",
        "outputId": "8d7c75ee-bcb0-4e6b-cdda-fc5603822267"
      },
      "execution_count": 102,
      "outputs": [
        {
          "output_type": "execute_result",
          "data": {
            "text/plain": [
              "tensor([[0.0000, 1.0000],\n",
              "        [0.6269, 0.8277]])"
            ]
          },
          "metadata": {},
          "execution_count": 102
        }
      ]
    },
    {
      "cell_type": "code",
      "source": [
        "b  # now b does not change with a"
      ],
      "metadata": {
        "colab": {
          "base_uri": "https://localhost:8080/"
        },
        "id": "DIQ12mqrxo5h",
        "outputId": "27ad6006-771a-4db3-dcb7-f9a9b79f6245"
      },
      "execution_count": 103,
      "outputs": [
        {
          "output_type": "execute_result",
          "data": {
            "text/plain": [
              "tensor([[0.0000, 0.3079],\n",
              "        [0.6269, 0.8277]])"
            ]
          },
          "metadata": {},
          "execution_count": 103
        }
      ]
    },
    {
      "cell_type": "markdown",
      "source": [
        "# Tensors Operations on GPUs"
      ],
      "metadata": {
        "id": "wrhZcYbOxx9d"
      }
    },
    {
      "cell_type": "code",
      "source": [
        "# check If I am using GPU or not\n",
        "torch.cuda.is_available()"
      ],
      "metadata": {
        "colab": {
          "base_uri": "https://localhost:8080/"
        },
        "id": "z3C1Fii_xqm8",
        "outputId": "1a0cbfbf-6f95-4716-829a-5b698e6d137e"
      },
      "execution_count": 104,
      "outputs": [
        {
          "output_type": "execute_result",
          "data": {
            "text/plain": [
              "True"
            ]
          },
          "metadata": {},
          "execution_count": 104
        }
      ]
    },
    {
      "cell_type": "code",
      "source": [
        "device = torch.device('cuda')"
      ],
      "metadata": {
        "id": "TIwCyl1HyBTj"
      },
      "execution_count": 105,
      "outputs": []
    },
    {
      "cell_type": "code",
      "source": [
        "# Create New Tensor on GPU\n",
        "a = torch.rand(2,2, device = device)\n"
      ],
      "metadata": {
        "id": "FNIR4C3pyJCz"
      },
      "execution_count": 106,
      "outputs": []
    },
    {
      "cell_type": "code",
      "source": [
        "# Change the existinng CPU into GPU\n",
        "b  = torch.rand(2,2)\n",
        "b = b.to(device)"
      ],
      "metadata": {
        "id": "E2grh-mxyUQt"
      },
      "execution_count": 107,
      "outputs": []
    },
    {
      "cell_type": "markdown",
      "source": [
        "# Change the shape of a Tensor"
      ],
      "metadata": {
        "id": "f2J3jyctyn_8"
      }
    },
    {
      "cell_type": "code",
      "source": [
        "# a.reshape()\n",
        "\n",
        "#  Flatten\n",
        "# a.flatten()\n",
        "# permute\n",
        "# unsqueeze"
      ],
      "metadata": {
        "id": "OdBCI8TjyeeU"
      },
      "execution_count": null,
      "outputs": []
    },
    {
      "cell_type": "markdown",
      "source": [
        "# Numpy and Torch"
      ],
      "metadata": {
        "id": "VCYcu0TQ0Jal"
      }
    },
    {
      "cell_type": "code",
      "source": [
        "import numpy as np"
      ],
      "metadata": {
        "id": "Uqpmf5No0LSi"
      },
      "execution_count": 108,
      "outputs": []
    },
    {
      "cell_type": "code",
      "source": [
        "a = torch.tensor([1,2,3])"
      ],
      "metadata": {
        "id": "tQgKGSLY0OlP"
      },
      "execution_count": 109,
      "outputs": []
    },
    {
      "cell_type": "code",
      "source": [
        "b =a.numpy() # convert into numpy tesnor\n",
        "b"
      ],
      "metadata": {
        "colab": {
          "base_uri": "https://localhost:8080/"
        },
        "id": "r8UBl7oy0YE-",
        "outputId": "9e52d655-b925-46bb-d3e8-1ce3278e3193"
      },
      "execution_count": 112,
      "outputs": [
        {
          "output_type": "execute_result",
          "data": {
            "text/plain": [
              "array([1, 2, 3])"
            ]
          },
          "metadata": {},
          "execution_count": 112
        }
      ]
    },
    {
      "cell_type": "code",
      "source": [
        "type(b)"
      ],
      "metadata": {
        "colab": {
          "base_uri": "https://localhost:8080/"
        },
        "id": "kJksrnN_0du0",
        "outputId": "896d2854-cb8d-4768-8c53-1474a35d59dd"
      },
      "execution_count": 113,
      "outputs": [
        {
          "output_type": "execute_result",
          "data": {
            "text/plain": [
              "numpy.ndarray"
            ]
          },
          "metadata": {},
          "execution_count": 113
        }
      ]
    },
    {
      "cell_type": "code",
      "source": [
        "c = np.array([1,2,3])"
      ],
      "metadata": {
        "id": "qJoYFSog0ikp"
      },
      "execution_count": 114,
      "outputs": []
    },
    {
      "cell_type": "code",
      "source": [
        "c"
      ],
      "metadata": {
        "colab": {
          "base_uri": "https://localhost:8080/"
        },
        "id": "LSt1bHb60s0-",
        "outputId": "5d7460bb-ec23-4ffe-cd2b-3c7a17242148"
      },
      "execution_count": 115,
      "outputs": [
        {
          "output_type": "execute_result",
          "data": {
            "text/plain": [
              "array([1, 2, 3])"
            ]
          },
          "metadata": {},
          "execution_count": 115
        }
      ]
    },
    {
      "cell_type": "code",
      "source": [
        "torch.from_numpy(c)  # numpy to torch"
      ],
      "metadata": {
        "colab": {
          "base_uri": "https://localhost:8080/"
        },
        "id": "uiebLXH00ukP",
        "outputId": "019814d8-c34b-4c90-ee8a-225d16cec265"
      },
      "execution_count": 116,
      "outputs": [
        {
          "output_type": "execute_result",
          "data": {
            "text/plain": [
              "tensor([1, 2, 3])"
            ]
          },
          "metadata": {},
          "execution_count": 116
        }
      ]
    },
    {
      "cell_type": "code",
      "source": [],
      "metadata": {
        "id": "Qy6jjhsX0y02"
      },
      "execution_count": null,
      "outputs": []
    }
  ]
}
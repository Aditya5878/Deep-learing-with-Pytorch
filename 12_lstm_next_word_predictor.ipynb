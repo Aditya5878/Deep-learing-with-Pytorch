{
  "cells": [
    {
      "cell_type": "code",
      "execution_count": 70,
      "metadata": {
        "id": "iBOIT50NNl7r"
      },
      "outputs": [],
      "source": [
        "# !pip install nltk"
      ]
    },
    {
      "cell_type": "code",
      "execution_count": 71,
      "metadata": {
        "colab": {
          "base_uri": "https://localhost:8080/"
        },
        "id": "dhfet8UANu7-",
        "outputId": "03fc783c-0e6e-45b1-a2a6-c29855fb047f"
      },
      "outputs": [
        {
          "name": "stderr",
          "output_type": "stream",
          "text": [
            "[nltk_data] Downloading package punkt to /root/nltk_data...\n",
            "[nltk_data]   Package punkt is already up-to-date!\n",
            "[nltk_data] Downloading package punkt_tab to /root/nltk_data...\n",
            "[nltk_data]   Package punkt_tab is already up-to-date!\n"
          ]
        },
        {
          "data": {
            "text/plain": [
              "True"
            ]
          },
          "execution_count": 71,
          "metadata": {},
          "output_type": "execute_result"
        }
      ],
      "source": [
        "import torch\n",
        "import nltk\n",
        "import torch.nn as nn\n",
        "from torch.utils.data import Dataset , DataLoader\n",
        "import torch.optim as optim\n",
        "import numpy as np\n",
        "from collections import Counter\n",
        "from nltk.tokenize import word_tokenize\n",
        "\n",
        "nltk.download('punkt')\n",
        "nltk.download('punkt_tab')\n"
      ]
    },
    {
      "cell_type": "code",
      "execution_count": 72,
      "metadata": {
        "id": "mWj4R5O0LPa6"
      },
      "outputs": [],
      "source": [
        "document =f\"\"\"\n",
        "The Taj Mahal, located in Agra, India, stands as one of the most iconic architectural masterpieces in the world.\n",
        "Built by the Mughal Emperor Shah Jahan in the 17th century, the Taj Mahal is not only a symbol of love and devotion but also a testament to the technical and artistic brilliance of the Mughal era.\n",
        "This case study explores the historical background, architectural features, cultural significance, and conservation challenges associated with this UNESCO World Heritage Site.\n",
        "\n",
        "The origin of the Taj Mahal is rooted in a personal tragedy.\n",
        "Shah Jahan commissioned the mausoleum in memory of his beloved wife Mumtaz Mahal, who died in 1631 during childbirth.\n",
        "Deeply stricken by grief, Shah Jahan sought to immortalize her with a monument that would embody eternal love.\n",
        "Construction began in 1632 and was largely completed by 1648, although additional work on surrounding structures continued for several years.\n",
        "Over 20,000 artisans and laborers, including architects from across the empire and beyond, contributed to this grand project.\n",
        "\n",
        "The Taj Mahal is widely regarded as a pinnacle of Mughal architecture, which blends elements from Islamic, Persian, Ottoman Turkish, and Indian architectural styles.\n",
        "The central structure is a white marble mausoleum set upon a raised platform, flanked by four minarets. The use of symmetry is meticulous: the entire complex is laid out in a charbagh, or Mughal garden, divided by water channels and walkways into four quadrants.\n",
        "The main building houses the cenotaphs of Mumtaz Mahal and Shah Jahan, although the actual graves lie in a lower chamber.\n",
        "\n",
        "The white marble used in the construction was sourced from Makrana in Rajasthan and is noted for its high quality and translucent properties.\n",
        "The surface of the monument is adorned with intricate inlay work using semi-precious stones like lapis lazuli, jade, crystal, and turquoise, forming elaborate floral patterns and Quranic inscriptions.\n",
        "These decorations reflect both the religious and aesthetic values of the period.\n",
        "\n",
        "One of the most striking features of the Taj Mahal is its ability to change appearance depending on the time of day and weather conditions.\n",
        "In the early morning, the monument may appear pinkish; in the evening, golden; and under moonlight, a soft silvery hue.\n",
        "This dynamic visual quality enhances the emotional and spiritual experience of the viewer, aligning with its purpose as a sacred memorial.\n",
        "\n",
        "The Taj Mahal holds deep cultural and symbolic meaning. It is often referred to as a monument of love, representing not just the romantic bond between Shah Jahan and Mumtaz Mahal but also the broader themes of devotion, memory, and transcendence.\n",
        "Over the centuries, it has inspired poets, artists, and travelers from around the world. Rabindranath Tagore famously described it as “a teardrop on the cheek of time.”\n",
        "\n",
        "Despite its enduring beauty, the Taj Mahal has faced numerous conservation challenges.\n",
        "Environmental pollution, particularly from the nearby Yamuna River and industrial emissions, has led to the yellowing of its once-pristine marble.\n",
        "Acid rain and particulate matter have caused surface erosion and discoloration. The groundwater table beneath the monument has also been declining, raising concerns about the long-term stability of its wooden foundation.\n",
        "\n",
        "To mitigate these threats, the Indian government and international bodies have implemented several preservation initiatives.\n",
        "The Taj Trapezium Zone (TTZ) was established to regulate industrial activity around the monument. Regular cleaning processes using clay packs (Multani mitti) help remove surface grime without damaging the marble. Efforts have also been made to plant more greenery and install air-purifying devices in the vicinity.\n",
        "\n",
        "Tourism plays a dual role in the life of the Taj Mahal. On one hand, it generates significant revenue and raises global awareness about India’s cultural heritage.\n",
        "Millions of visitors from around the world flock to Agra each year to witness its splendor. On the other hand, the massive footfall leads to wear and tear of the structure and surrounding environment.\n",
        "Managing the balance between accessibility and preservation remains a constant challenge for authorities.\n",
        "\n",
        "The Taj Mahal is more than just an architectural feat; it is a living symbol of India's historical legacy, cultural richness, and artistic heritage.\n",
        "It has been the subject of countless studies, documentaries, and literary works. In recent years, it has also become a focal point in debates about historical memory, religious identity, and conservation ethics.\n",
        "\n",
        "As a UNESCO World Heritage Site, the Taj Mahal is recognized for its outstanding universal value.\n",
        "Its inclusion in the list has helped garner international support for its preservation. However, the responsibility of safeguarding this monument ultimately rests with the collective efforts of government institutions, local communities, and global citizens.\n",
        "\n",
        "In conclusion, the Taj Mahal is not merely a relic of the past but a vibrant part of the present and a beacon for the future.\n",
        "It stands as a powerful reminder of what humanity can achieve when love, vision, and craftsmanship converge.\n",
        "Preserving its legacy is not just about maintaining a structure, but about honoring the values and stories it represents.\n",
        "Through continuous care and conscious stewardship, the Taj Mahal will continue to inspire generations to come.\n",
        "\"\"\"\n"
      ]
    },
    {
      "cell_type": "code",
      "execution_count": 73,
      "metadata": {
        "colab": {
          "base_uri": "https://localhost:8080/"
        },
        "id": "jOiUTPOx0oLQ",
        "outputId": "af0ef8c2-de9d-4a4d-ff29-68efd675ecba"
      },
      "outputs": [
        {
          "data": {
            "text/plain": [
              "str"
            ]
          },
          "execution_count": 73,
          "metadata": {},
          "output_type": "execute_result"
        }
      ],
      "source": [
        "type(document)"
      ]
    },
    {
      "cell_type": "code",
      "execution_count": 74,
      "metadata": {
        "id": "bkcUMe7dOiMO"
      },
      "outputs": [],
      "source": [
        "tokens = word_tokenize(document.lower())"
      ]
    },
    {
      "cell_type": "code",
      "execution_count": 75,
      "metadata": {
        "colab": {
          "base_uri": "https://localhost:8080/"
        },
        "id": "gYcpPQrYPBT6",
        "outputId": "e2d1babf-965b-486b-f787-69b02145120a"
      },
      "outputs": [
        {
          "data": {
            "text/plain": [
              "448"
            ]
          },
          "execution_count": 75,
          "metadata": {},
          "output_type": "execute_result"
        }
      ],
      "source": [
        "vocab = {'<unk>': 0}\n",
        "for token in Counter(tokens).keys():\n",
        "    vocab[token] = len(vocab)\n",
        "len(vocab)"
      ]
    },
    {
      "cell_type": "code",
      "execution_count": 76,
      "metadata": {
        "colab": {
          "base_uri": "https://localhost:8080/"
        },
        "id": "7jQPPIz-POZL",
        "outputId": "6a58dae3-e835-44cc-9493-de51796c5fb8"
      },
      "outputs": [
        {
          "name": "stdout",
          "output_type": "stream",
          "text": [
            "46\n"
          ]
        },
        {
          "data": {
            "text/plain": [
              "['\\nThe Taj Mahal, located in Agra, India, stands as one of the most iconic architectural masterpieces in the world',\n",
              " ' \\nBuilt by the Mughal Emperor Shah Jahan in the 17th century, the Taj Mahal is not only a symbol of love and devotion but also a testament to the technical and artistic brilliance of the Mughal era',\n",
              " ' \\nThis case study explores the historical background, architectural features, cultural significance, and conservation challenges associated with this UNESCO World Heritage Site',\n",
              " '\\n\\nThe origin of the Taj Mahal is rooted in a personal tragedy',\n",
              " '\\nShah Jahan commissioned the mausoleum in memory of his beloved wife Mumtaz Mahal, who died in 1631 during childbirth',\n",
              " '\\nDeeply stricken by grief, Shah Jahan sought to immortalize her with a monument that would embody eternal love',\n",
              " '\\nConstruction began in 1632 and was largely completed by 1648, although additional work on surrounding structures continued for several years',\n",
              " '\\nOver 20,000 artisans and laborers, including architects from across the empire and beyond, contributed to this grand project',\n",
              " '\\n\\nThe Taj Mahal is widely regarded as a pinnacle of Mughal architecture, which blends elements from Islamic, Persian, Ottoman Turkish, and Indian architectural styles',\n",
              " '\\nThe central structure is a white marble mausoleum set upon a raised platform, flanked by four minarets',\n",
              " ' The use of symmetry is meticulous: the entire complex is laid out in a charbagh, or Mughal garden, divided by water channels and walkways into four quadrants',\n",
              " '\\nThe main building houses the cenotaphs of Mumtaz Mahal and Shah Jahan, although the actual graves lie in a lower chamber',\n",
              " '\\n\\nThe white marble used in the construction was sourced from Makrana in Rajasthan and is noted for its high quality and translucent properties',\n",
              " '\\nThe surface of the monument is adorned with intricate inlay work using semi-precious stones like lapis lazuli, jade, crystal, and turquoise, forming elaborate floral patterns and Quranic inscriptions',\n",
              " '\\nThese decorations reflect both the religious and aesthetic values of the period',\n",
              " '\\n\\nOne of the most striking features of the Taj Mahal is its ability to change appearance depending on the time of day and weather conditions',\n",
              " '\\nIn the early morning, the monument may appear pinkish; in the evening, golden; and under moonlight, a soft silvery hue',\n",
              " '\\nThis dynamic visual quality enhances the emotional and spiritual experience of the viewer, aligning with its purpose as a sacred memorial',\n",
              " '\\n\\nThe Taj Mahal holds deep cultural and symbolic meaning',\n",
              " ' It is often referred to as a monument of love, representing not just the romantic bond between Shah Jahan and Mumtaz Mahal but also the broader themes of devotion, memory, and transcendence',\n",
              " '\\nOver the centuries, it has inspired poets, artists, and travelers from around the world',\n",
              " ' Rabindranath Tagore famously described it as “a teardrop on the cheek of time',\n",
              " '”\\n\\nDespite its enduring beauty, the Taj Mahal has faced numerous conservation challenges',\n",
              " '\\nEnvironmental pollution, particularly from the nearby Yamuna River and industrial emissions, has led to the yellowing of its once-pristine marble',\n",
              " '\\nAcid rain and particulate matter have caused surface erosion and discoloration',\n",
              " ' The groundwater table beneath the monument has also been declining, raising concerns about the long-term stability of its wooden foundation',\n",
              " '\\n\\nTo mitigate these threats, the Indian government and international bodies have implemented several preservation initiatives',\n",
              " '\\nThe Taj Trapezium Zone (TTZ) was established to regulate industrial activity around the monument',\n",
              " ' Regular cleaning processes using clay packs (Multani mitti) help remove surface grime without damaging the marble',\n",
              " ' Efforts have also been made to plant more greenery and install air-purifying devices in the vicinity',\n",
              " '\\n\\nTourism plays a dual role in the life of the Taj Mahal',\n",
              " ' On one hand, it generates significant revenue and raises global awareness about India’s cultural heritage',\n",
              " '\\nMillions of visitors from around the world flock to Agra each year to witness its splendor',\n",
              " ' On the other hand, the massive footfall leads to wear and tear of the structure and surrounding environment',\n",
              " '\\nManaging the balance between accessibility and preservation remains a constant challenge for authorities',\n",
              " \"\\n\\nThe Taj Mahal is more than just an architectural feat; it is a living symbol of India's historical legacy, cultural richness, and artistic heritage\",\n",
              " '\\nIt has been the subject of countless studies, documentaries, and literary works',\n",
              " ' In recent years, it has also become a focal point in debates about historical memory, religious identity, and conservation ethics',\n",
              " '\\n\\nAs a UNESCO World Heritage Site, the Taj Mahal is recognized for its outstanding universal value',\n",
              " '\\nIts inclusion in the list has helped garner international support for its preservation',\n",
              " ' However, the responsibility of safeguarding this monument ultimately rests with the collective efforts of government institutions, local communities, and global citizens',\n",
              " '\\n\\nIn conclusion, the Taj Mahal is not merely a relic of the past but a vibrant part of the present and a beacon for the future',\n",
              " '\\nIt stands as a powerful reminder of what humanity can achieve when love, vision, and craftsmanship converge',\n",
              " '\\nPreserving its legacy is not just about maintaining a structure, but about honoring the values and stories it represents',\n",
              " '\\nThrough continuous care and conscious stewardship, the Taj Mahal will continue to inspire generations to come',\n",
              " '\\n']"
            ]
          },
          "execution_count": 76,
          "metadata": {},
          "output_type": "execute_result"
        }
      ],
      "source": [
        "# Extract Sentences from data\n",
        "\n",
        "input_sentences = document.split('.')\n",
        "\n",
        "print(len(input_sentences))\n",
        "input_sentences\n"
      ]
    },
    {
      "cell_type": "code",
      "execution_count": 77,
      "metadata": {
        "id": "yZwojofL1tZj"
      },
      "outputs": [],
      "source": [
        "# replace each words with its index\n",
        "\n",
        "def text_to_index(sentence, vocab):\n",
        "  num_sentence = []\n",
        "  for word in sentence:\n",
        "    if word in vocab.keys():\n",
        "      num_sentence.append(vocab[word])\n",
        "    else:\n",
        "      num_sentence.append(vocab['<unk>'])\n",
        "  return num_sentence\n"
      ]
    },
    {
      "cell_type": "code",
      "execution_count": 78,
      "metadata": {
        "colab": {
          "base_uri": "https://localhost:8080/"
        },
        "id": "rRKZXu2szPj0",
        "outputId": "0d16854b-4afc-48a5-a056-4445d6a61214"
      },
      "outputs": [
        {
          "name": "stdout",
          "output_type": "stream",
          "text": [
            "46\n"
          ]
        }
      ],
      "source": [
        "input_num_sentences = []\n",
        "for sentence in input_sentences:\n",
        "    input_num_sentences.append(text_to_index(word_tokenize(sentence.lower()), vocab))\n",
        "\n",
        "print(len(input_num_sentences))\n",
        "# input_num_sentences"
      ]
    },
    {
      "cell_type": "code",
      "execution_count": 79,
      "metadata": {
        "colab": {
          "base_uri": "https://localhost:8080/"
        },
        "id": "85Ognapa1n6t",
        "outputId": "84487229-5520-4fa8-e29d-ad9c0ad694f5"
      },
      "outputs": [
        {
          "name": "stdout",
          "output_type": "stream",
          "text": [
            "[1, 2]\n",
            "[1, 2, 3]\n",
            "[1, 2, 3, 4]\n",
            "[1, 2, 3, 4, 5]\n",
            "[1, 2, 3, 4, 5, 6]\n",
            "[1, 2, 3, 4, 5, 6, 7]\n",
            "[1, 2, 3, 4, 5, 6, 7, 4]\n",
            "[1, 2, 3, 4, 5, 6, 7, 4, 8]\n",
            "[1, 2, 3, 4, 5, 6, 7, 4, 8, 4]\n",
            "[1, 2, 3, 4, 5, 6, 7, 4, 8, 4, 9]\n",
            "[1, 2, 3, 4, 5, 6, 7, 4, 8, 4, 9, 10]\n",
            "[1, 2, 3, 4, 5, 6, 7, 4, 8, 4, 9, 10, 11]\n",
            "[1, 2, 3, 4, 5, 6, 7, 4, 8, 4, 9, 10, 11, 12]\n",
            "[1, 2, 3, 4, 5, 6, 7, 4, 8, 4, 9, 10, 11, 12, 1]\n",
            "[1, 2, 3, 4, 5, 6, 7, 4, 8, 4, 9, 10, 11, 12, 1, 13]\n",
            "[1, 2, 3, 4, 5, 6, 7, 4, 8, 4, 9, 10, 11, 12, 1, 13, 14]\n",
            "[1, 2, 3, 4, 5, 6, 7, 4, 8, 4, 9, 10, 11, 12, 1, 13, 14, 15]\n",
            "[1, 2, 3, 4, 5, 6, 7, 4, 8, 4, 9, 10, 11, 12, 1, 13, 14, 15, 16]\n",
            "[1, 2, 3, 4, 5, 6, 7, 4, 8, 4, 9, 10, 11, 12, 1, 13, 14, 15, 16, 6]\n",
            "[1, 2, 3, 4, 5, 6, 7, 4, 8, 4, 9, 10, 11, 12, 1, 13, 14, 15, 16, 6, 1]\n",
            "[1, 2, 3, 4, 5, 6, 7, 4, 8, 4, 9, 10, 11, 12, 1, 13, 14, 15, 16, 6, 1, 17]\n"
          ]
        }
      ],
      "source": [
        "# Create sequence of each list\n",
        "\n",
        "for sen in input_num_sentences:\n",
        "    for i in range(1, len(sen)):\n",
        "      print(sen[: i+1])\n",
        "    break"
      ]
    },
    {
      "cell_type": "code",
      "execution_count": 80,
      "metadata": {
        "id": "g_AryuS94gj_"
      },
      "outputs": [],
      "source": [
        "training_seq = []\n",
        "for sen in input_num_sentences:\n",
        "    for i in range(1, len(sen)):\n",
        "      training_seq.append(sen[: i+1])\n"
      ]
    },
    {
      "cell_type": "code",
      "execution_count": 81,
      "metadata": {
        "colab": {
          "base_uri": "https://localhost:8080/"
        },
        "id": "ynOutlOD5aY7",
        "outputId": "f5769dce-9937-438f-b190-ad62a2441680"
      },
      "outputs": [
        {
          "data": {
            "text/plain": [
              "857"
            ]
          },
          "execution_count": 81,
          "metadata": {},
          "output_type": "execute_result"
        }
      ],
      "source": [
        "len(training_seq)"
      ]
    },
    {
      "cell_type": "code",
      "execution_count": 82,
      "metadata": {
        "colab": {
          "base_uri": "https://localhost:8080/"
        },
        "id": "RQDcoOhn5soM",
        "outputId": "bcf58ac2-07a1-4b10-caf8-f1e704bd8224"
      },
      "outputs": [
        {
          "data": {
            "text/plain": [
              "[0,\n",
              " 0,\n",
              " 0,\n",
              " 0,\n",
              " 0,\n",
              " 0,\n",
              " 0,\n",
              " 0,\n",
              " 0,\n",
              " 0,\n",
              " 0,\n",
              " 0,\n",
              " 0,\n",
              " 0,\n",
              " 0,\n",
              " 0,\n",
              " 0,\n",
              " 0,\n",
              " 0,\n",
              " 0,\n",
              " 0,\n",
              " 0,\n",
              " 0,\n",
              " 0,\n",
              " 0,\n",
              " 0,\n",
              " 0,\n",
              " 0,\n",
              " 0,\n",
              " 0,\n",
              " 0,\n",
              " 0,\n",
              " 0,\n",
              " 0,\n",
              " 0,\n",
              " 0,\n",
              " 1,\n",
              " 2]"
            ]
          },
          "execution_count": 82,
          "metadata": {},
          "output_type": "execute_result"
        }
      ],
      "source": [
        "#all the list of training_seq should have same size\n",
        "max_len = 1  # get the maximum len of sequence\n",
        "\n",
        "for seq in training_seq:\n",
        "  max_len = max(max_len, len(seq))\n",
        "\n",
        "max_len\n",
        "\n",
        "# add 0s to the seq(list) so that its len becomes max_len\n",
        "\n",
        "padded_training_seq = []\n",
        "for seq in training_seq:\n",
        "  padded_training_seq.append([0]*(max_len - len(seq)) + seq)\n",
        "\n",
        "padded_training_seq[0]\n",
        "\n"
      ]
    },
    {
      "cell_type": "code",
      "execution_count": 83,
      "metadata": {
        "colab": {
          "base_uri": "https://localhost:8080/"
        },
        "id": "j35P-Oiv6gZE",
        "outputId": "00335a8d-8f5f-4f6b-be5a-fcbd6454b2b7"
      },
      "outputs": [
        {
          "data": {
            "text/plain": [
              "38"
            ]
          },
          "execution_count": 83,
          "metadata": {},
          "output_type": "execute_result"
        }
      ],
      "source": [
        "len(padded_training_seq[0])"
      ]
    },
    {
      "cell_type": "code",
      "execution_count": 84,
      "metadata": {
        "id": "IjsAKKSf74zk"
      },
      "outputs": [],
      "source": [
        "padded_training_seq = torch.tensor(padded_training_seq , dtype = torch.long)"
      ]
    },
    {
      "cell_type": "code",
      "execution_count": 85,
      "metadata": {
        "colab": {
          "base_uri": "https://localhost:8080/"
        },
        "id": "QRPEwCbg8EdC",
        "outputId": "1e4aadc4-7087-4021-f9ad-4cde42ad65b4"
      },
      "outputs": [
        {
          "data": {
            "text/plain": [
              "torch.Size([857, 38])"
            ]
          },
          "execution_count": 85,
          "metadata": {},
          "output_type": "execute_result"
        }
      ],
      "source": [
        "padded_training_seq.shape"
      ]
    },
    {
      "cell_type": "code",
      "execution_count": 86,
      "metadata": {
        "id": "FLuoMYjM8LB3"
      },
      "outputs": [],
      "source": [
        "# Extract X and y , y : last element of each list and remaining one is X\n",
        "X = padded_training_seq[:, :-1]\n",
        "y = padded_training_seq[:, -1]"
      ]
    },
    {
      "cell_type": "code",
      "execution_count": 87,
      "metadata": {
        "colab": {
          "base_uri": "https://localhost:8080/"
        },
        "id": "LwYOjETj8duV",
        "outputId": "af7a67d7-4ac0-4616-f6a7-dfadb0c3e5fd"
      },
      "outputs": [
        {
          "data": {
            "text/plain": [
              "torch.Size([857])"
            ]
          },
          "execution_count": 87,
          "metadata": {},
          "output_type": "execute_result"
        }
      ],
      "source": [
        "y.shape"
      ]
    },
    {
      "cell_type": "code",
      "execution_count": 88,
      "metadata": {
        "id": "cu2lxY5i8l8r"
      },
      "outputs": [],
      "source": [
        "class CustomDataset(Dataset):\n",
        "  def __init__(self, X, y):\n",
        "    self.X = X\n",
        "    self.y = y\n",
        "\n",
        "  def __len__(self):\n",
        "\n",
        "    return len(self.X)\n",
        "\n",
        "  def __getitem__(self, idx):\n",
        "    return self.X[idx], self.y[idx]\n"
      ]
    },
    {
      "cell_type": "code",
      "execution_count": 89,
      "metadata": {
        "id": "CzUrF9Pw9B5R"
      },
      "outputs": [],
      "source": [
        "dataset = CustomDataset(X, y)"
      ]
    },
    {
      "cell_type": "code",
      "execution_count": 90,
      "metadata": {
        "colab": {
          "base_uri": "https://localhost:8080/"
        },
        "id": "69XIGR8m9WKx",
        "outputId": "517b0058-6283-4f7f-f9ab-7771524baa73"
      },
      "outputs": [
        {
          "data": {
            "text/plain": [
              "(tensor([0, 0, 0, 0, 0, 0, 0, 0, 0, 0, 0, 0, 0, 0, 0, 0, 0, 0, 0, 0, 0, 0, 0, 0,\n",
              "         0, 0, 0, 0, 0, 0, 0, 0, 0, 0, 0, 0, 1]),\n",
              " tensor(2))"
            ]
          },
          "execution_count": 90,
          "metadata": {},
          "output_type": "execute_result"
        }
      ],
      "source": [
        "dataset[0]"
      ]
    },
    {
      "cell_type": "code",
      "execution_count": 91,
      "metadata": {
        "colab": {
          "base_uri": "https://localhost:8080/"
        },
        "id": "TY9LHEuJ9EUq",
        "outputId": "9aa2df2a-dc57-4652-9ca8-252a08fde93b"
      },
      "outputs": [
        {
          "data": {
            "text/plain": [
              "857"
            ]
          },
          "execution_count": 91,
          "metadata": {},
          "output_type": "execute_result"
        }
      ],
      "source": [
        "len(dataset)"
      ]
    },
    {
      "cell_type": "code",
      "execution_count": 92,
      "metadata": {
        "id": "gw30b5-G9GyL"
      },
      "outputs": [],
      "source": [
        "train_loader = DataLoader(dataset, batch_size=32, shuffle=True)   # will process 32 sentences at once"
      ]
    },
    {
      "cell_type": "code",
      "execution_count": 93,
      "metadata": {
        "colab": {
          "base_uri": "https://localhost:8080/"
        },
        "id": "JzrrdFbN9gJv",
        "outputId": "8ef62c95-c7da-4859-ed16-b45a5b102f6c"
      },
      "outputs": [
        {
          "name": "stdout",
          "output_type": "stream",
          "text": [
            "tensor([[  0,   0,   0,  ..., 143,   1, 144],\n",
            "        [  0,   0,   0,  ...,  33, 285, 286],\n",
            "        [  0,   0,   0,  ...,   4, 252, 280],\n",
            "        ...,\n",
            "        [  0,   0,   0,  ..., 389,  30, 390],\n",
            "        [  0,   0,   0,  ..., 161, 162, 163],\n",
            "        [  0,   0,   0,  ...,  10,  30, 118]])\n",
            "tensor([145, 287,  38,  95,  38,  12,   1,  43,  32,  81,   1, 353, 162, 392,\n",
            "          1, 383, 142,   3, 361,   4, 381,  21,   4,  55,   7, 171, 219,   6,\n",
            "         12, 391,   6,  12])\n"
          ]
        }
      ],
      "source": [
        "for input , output in train_loader:\n",
        "  print(input)\n",
        "  print(output)\n",
        "  break"
      ]
    },
    {
      "cell_type": "markdown",
      "metadata": {
        "id": "Bzngj1Zf94c1"
      },
      "source": [
        "### 🧠 LSTM Input Workflow Explanation\n",
        "\n",
        "We are using a batch-based approach to train our LSTM model.\n",
        "\n",
        "- **Batch Size**: We are passing **32 sentences at a time** (i.e., `batch_size = 32`).\n",
        "- **Sentence Representation**:\n",
        "  - Each sentence consists of **38 tokens (words)**.\n",
        "  - Each token is represented by a **100-dimensional word embedding** (using an embedding layer).\n",
        "  - So, each sentence becomes a tensor of shape **(38, 100)**.\n",
        "\n",
        "---\n",
        "\n",
        "#### 📥 Input Tensor Shape\n",
        "\n",
        "At each batch, we pass an input tensor of shape:\n",
        "\n",
        "(batch_size, sequence_length, embedding_dim) = (32, 38, 100)\n",
        "\n",
        "Where:\n",
        "- `32`: number of sentences in a batch  \n",
        "- `38`: number of tokens (time steps) per sentence  \n",
        "- `100`: size of the word embedding for each token  \n",
        "\n",
        "---\n",
        "\n",
        "#### 🔁 LSTM Time Step Operation\n",
        "\n",
        "- LSTM processes input **one time step at a time**, i.e., it reads one token (word) per sentence across all 32 sentences at each time step.\n",
        "- At **time step `t = 0`**:\n",
        "  - The LSTM receives the **first token** of all 32 sentences — shape: **(32, 100)**\n",
        "  - It also takes in an initial hidden state `h₀` and cell state `c₀` (usually initialized to zeros if not provided)\n",
        "  - It outputs the hidden state `h₁` and cell state `c₁`\n",
        "\n",
        "- At **time step `t = 1`**:\n",
        "  - The LSTM receives the **second token** from all sentences\n",
        "  - It uses `h₁` and `c₁` from the previous time step\n",
        "  - This process continues up to `t = 37` (since sequence length = 38)\n",
        "\n",
        "---\n",
        "\n",
        "\n",
        "\n",
        "![image.png](data:image/png;base64,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)"
      ]
    },
    {
      "cell_type": "code",
      "execution_count": 94,
      "metadata": {
        "id": "tiV-JKJV9qyI"
      },
      "outputs": [],
      "source": [
        "class LSTMModel(nn.Module):\n",
        "  def __init__(self, vocab_size):\n",
        "    super().__init__()\n",
        "    self.embedding = nn.Embedding(vocab_size, 100) # dim of embedding\n",
        "    self.lstm = nn.LSTM(100, 150, batch_first=True)  # dim of embedding , num of neurons in each lstm\n",
        "    self.fc = nn.Linear(150, vocab_size)\n",
        "\n",
        "  def forward(self, x):\n",
        "    embedded = self.embedding(x)\n",
        "    intermediate_hidden_states, (final_hidden_state, final_cell_state) = self.lstm(embedded)\n",
        "    output = self.fc(final_hidden_state.squeeze(0))\n",
        "    return output\n"
      ]
    },
    {
      "cell_type": "code",
      "execution_count": 95,
      "metadata": {
        "id": "tHy_U9RTEEwn"
      },
      "outputs": [],
      "source": [
        "model = LSTMModel(len(vocab))"
      ]
    },
    {
      "cell_type": "code",
      "execution_count": null,
      "metadata": {
        "id": "XXeTRq0QELHS"
      },
      "outputs": [],
      "source": [
        "# For GPU\n",
        "# device = torch.device(\"cuda\" if torch.cuda.is_available() else \"cpu\")\n",
        "# model.to(device)"
      ]
    },
    {
      "cell_type": "code",
      "execution_count": 97,
      "metadata": {
        "id": "DGUSc-OGEM-g"
      },
      "outputs": [],
      "source": [
        "epochs = 50\n",
        "learning_rate = 0.001\n",
        "\n",
        "criterion = nn.CrossEntropyLoss()\n",
        "\n",
        "optimizer = torch.optim.Adam(model.parameters(), lr=learning_rate)"
      ]
    },
    {
      "cell_type": "code",
      "execution_count": 98,
      "metadata": {
        "colab": {
          "base_uri": "https://localhost:8080/"
        },
        "id": "-SNHMCCSEPjr",
        "outputId": "2fc35cf4-bd48-4bad-b8c8-a82643aad7dc"
      },
      "outputs": [
        {
          "name": "stdout",
          "output_type": "stream",
          "text": [
            "Epoch: 1, Loss: 163.6677\n",
            "Epoch: 2, Loss: 148.5678\n",
            "Epoch: 3, Loss: 137.7025\n",
            "Epoch: 4, Loss: 129.0625\n",
            "Epoch: 5, Loss: 119.5666\n",
            "Epoch: 6, Loss: 110.3589\n",
            "Epoch: 7, Loss: 100.6761\n",
            "Epoch: 8, Loss: 91.2187\n",
            "Epoch: 9, Loss: 82.5368\n",
            "Epoch: 10, Loss: 73.8794\n",
            "Epoch: 11, Loss: 65.7743\n",
            "Epoch: 12, Loss: 57.9816\n",
            "Epoch: 13, Loss: 50.9776\n",
            "Epoch: 14, Loss: 44.7640\n",
            "Epoch: 15, Loss: 38.8332\n",
            "Epoch: 16, Loss: 33.5313\n",
            "Epoch: 17, Loss: 29.1003\n",
            "Epoch: 18, Loss: 25.1778\n",
            "Epoch: 19, Loss: 21.9234\n",
            "Epoch: 20, Loss: 19.1811\n",
            "Epoch: 21, Loss: 16.7697\n",
            "Epoch: 22, Loss: 14.8470\n",
            "Epoch: 23, Loss: 13.2207\n",
            "Epoch: 24, Loss: 11.8360\n",
            "Epoch: 25, Loss: 10.6123\n",
            "Epoch: 26, Loss: 9.5941\n",
            "Epoch: 27, Loss: 8.7348\n",
            "Epoch: 28, Loss: 8.0106\n",
            "Epoch: 29, Loss: 7.3464\n",
            "Epoch: 30, Loss: 6.8692\n",
            "Epoch: 31, Loss: 6.4378\n",
            "Epoch: 32, Loss: 6.0233\n",
            "Epoch: 33, Loss: 5.6246\n",
            "Epoch: 34, Loss: 5.2813\n",
            "Epoch: 35, Loss: 4.9942\n",
            "Epoch: 36, Loss: 4.7394\n",
            "Epoch: 37, Loss: 4.5199\n",
            "Epoch: 38, Loss: 4.3953\n",
            "Epoch: 39, Loss: 4.2089\n",
            "Epoch: 40, Loss: 3.9580\n",
            "Epoch: 41, Loss: 3.8558\n",
            "Epoch: 42, Loss: 3.6716\n",
            "Epoch: 43, Loss: 3.5844\n",
            "Epoch: 44, Loss: 3.4846\n",
            "Epoch: 45, Loss: 3.3462\n",
            "Epoch: 46, Loss: 3.2626\n",
            "Epoch: 47, Loss: 3.1432\n",
            "Epoch: 48, Loss: 3.0789\n",
            "Epoch: 49, Loss: 2.9838\n",
            "Epoch: 50, Loss: 2.8918\n"
          ]
        }
      ],
      "source": [
        "# training loop\n",
        "\n",
        "for epoch in range(epochs):\n",
        "  total_loss = 0\n",
        "\n",
        "  for batch_x, batch_y in train_loader:\n",
        "\n",
        "    # batch_x, batch_y = batch_x.to(device), batch_y.to(device)\n",
        "\n",
        "    optimizer.zero_grad()\n",
        "\n",
        "    output = model(batch_x)\n",
        "\n",
        "    loss = criterion(output, batch_y)\n",
        "\n",
        "    loss.backward()\n",
        "\n",
        "    optimizer.step()\n",
        "\n",
        "    total_loss = total_loss + loss.item()\n",
        "\n",
        "  print(f\"Epoch: {epoch + 1}, Loss: {total_loss:.4f}\")"
      ]
    },
    {
      "cell_type": "code",
      "execution_count": 99,
      "metadata": {
        "id": "qR31xI5bERyH"
      },
      "outputs": [],
      "source": [
        "# # prediction\n",
        "\n",
        "def prediction(model, vocab, text):\n",
        "\n",
        "  # tokenize\n",
        "  tokenized_text = word_tokenize(text.lower())\n",
        "\n",
        "  # text -> numerical indices\n",
        "  numerical_text = text_to_index(tokenized_text, vocab)\n",
        "\n",
        "  # padding\n",
        "  padded_text = torch.tensor([0] * (61 - len(numerical_text)) + numerical_text, dtype=torch.long).unsqueeze(0)\n",
        "\n",
        "  # send to model\n",
        "  output = model(padded_text)\n",
        "\n",
        "  # predicted index\n",
        "  value, index = torch.max(output, dim=1)\n",
        "\n",
        "  # merge with text\n",
        "  return text + \" \" + list(vocab.keys())[index]\n",
        "\n"
      ]
    },
    {
      "cell_type": "code",
      "execution_count": 107,
      "metadata": {
        "colab": {
          "base_uri": "https://localhost:8080/",
          "height": 36
        },
        "id": "j2wwXeIJEVdk",
        "outputId": "2d577c5b-a381-4e3d-808f-2cfc927f7403"
      },
      "outputs": [
        {
          "data": {
            "application/vnd.google.colaboratory.intrinsic+json": {
              "type": "string"
            },
            "text/plain": [
              "'The Taj Mahal, located in Agra ,'"
            ]
          },
          "execution_count": 107,
          "metadata": {},
          "output_type": "execute_result"
        }
      ],
      "source": [
        "prediction(model, vocab, \"The Taj Mahal, located in Agra\")"
      ]
    },
    {
      "cell_type": "code",
      "execution_count": 108,
      "metadata": {
        "colab": {
          "base_uri": "https://localhost:8080/"
        },
        "id": "kT6SRhOjEYTn",
        "outputId": "cbb36bcc-c108-472e-9953-a1ee6597f988"
      },
      "outputs": [
        {
          "name": "stdout",
          "output_type": "stream",
          "text": [
            "The Taj Mahal, located in Agra ,\n",
            "The Taj Mahal, located in Agra , india\n",
            "The Taj Mahal, located in Agra , india ,\n",
            "The Taj Mahal, located in Agra , india , stands\n",
            "The Taj Mahal, located in Agra , india , stands as\n",
            "The Taj Mahal, located in Agra , india , stands as one\n",
            "The Taj Mahal, located in Agra , india , stands as one of\n",
            "The Taj Mahal, located in Agra , india , stands as one of the\n",
            "The Taj Mahal, located in Agra , india , stands as one of the most\n",
            "The Taj Mahal, located in Agra , india , stands as one of the most iconic\n"
          ]
        }
      ],
      "source": [
        "import time\n",
        "\n",
        "num_tokens = 10\n",
        "input_text = \"The Taj Mahal, located in Agra\"\n",
        "\n",
        "for i in range(num_tokens):\n",
        "  output_text = prediction(model, vocab, input_text)\n",
        "  print(output_text)\n",
        "  input_text = output_text\n",
        "  time.sleep(0.5)\n"
      ]
    },
    {
      "cell_type": "code",
      "execution_count": 102,
      "metadata": {
        "id": "mEQCVO4-EZKW"
      },
      "outputs": [],
      "source": [
        "dataloader1 = DataLoader(dataset, batch_size=32, shuffle=False)"
      ]
    },
    {
      "cell_type": "code",
      "execution_count": 110,
      "metadata": {
        "colab": {
          "base_uri": "https://localhost:8080/"
        },
        "id": "yB_KxXemEcH7",
        "outputId": "7c3e02bd-44d9-468e-9f3a-ea5c5a2ed567"
      },
      "outputs": [
        {
          "name": "stdout",
          "output_type": "stream",
          "text": [
            "Model Accuracy: 97.90%\n"
          ]
        }
      ],
      "source": [
        "# # Function to calculate accuracy\n",
        "# def calculate_accuracy(model, dataloader, device):\n",
        "#     model.eval()  # Set the model to evaluation mode\n",
        "#     correct = 0\n",
        "#     total = 0\n",
        "\n",
        "#     with torch.no_grad():  # No need to compute gradients\n",
        "#         for batch_x, batch_y in dataloader1:\n",
        "#             batch_x, batch_y = batch_x.to(device), batch_y.to(device)\n",
        "\n",
        "#             # Get model predictions\n",
        "#             outputs = model(batch_x)\n",
        "\n",
        "#             # Get the predicted word indices\n",
        "#             _, predicted = torch.max(outputs, dim=1)\n",
        "\n",
        "#             # Compare with actual labels\n",
        "#             correct += (predicted == batch_y).sum().item()\n",
        "#             total += batch_y.size(0)\n",
        "\n",
        "#     accuracy = correct / total * 100\n",
        "#     return accuracy\n",
        "\n",
        "# # Compute accuracy\n",
        "# accuracy = calculate_accuracy(model, text_to_index, device)\n",
        "# print(f\"Model Accuracy: {accuracy:.2f}%\")\n",
        "\n",
        "\n",
        "# Function to calculate accuracy\n",
        "def calculate_accuracy(model, dataloader):\n",
        "    model.eval()  # Set the model to evaluation mode\n",
        "    correct = 0\n",
        "    total = 0\n",
        "\n",
        "    with torch.no_grad():  # No need to compute gradients\n",
        "        for batch_x, batch_y in dataloader1:\n",
        "            # batch_x, batch_y = batch_x.to(device), batch_y.to(device)\n",
        "\n",
        "            # Get model predictions\n",
        "            outputs = model(batch_x)\n",
        "\n",
        "            # Get the predicted word indices\n",
        "            _, predicted = torch.max(outputs, dim=1)\n",
        "\n",
        "            # Compare with actual labels\n",
        "            correct += (predicted == batch_y).sum().item()\n",
        "            total += batch_y.size(0)\n",
        "\n",
        "    accuracy = correct / total * 100\n",
        "    return accuracy\n",
        "\n",
        "# Compute accuracy\n",
        "accuracy = calculate_accuracy(model, text_to_index)\n",
        "print(f\"Model Accuracy: {accuracy:.2f}%\")\n",
        "\n"
      ]
    },
    {
      "cell_type": "code",
      "execution_count": null,
      "metadata": {
        "id": "JhtcrC-NFny5"
      },
      "outputs": [],
      "source": []
    }
  ],
  "metadata": {
    "accelerator": "GPU",
    "colab": {
      "gpuType": "T4",
      "provenance": []
    },
    "kernelspec": {
      "display_name": "Python 3",
      "name": "python3"
    },
    "language_info": {
      "name": "python"
    }
  },
  "nbformat": 4,
  "nbformat_minor": 0
}
